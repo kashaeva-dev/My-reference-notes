{
 "cells": [
  {
   "cell_type": "markdown",
   "id": "1b3ef574",
   "metadata": {},
   "source": [
    "*СЛОВАРИ*"
   ]
  },
  {
   "cell_type": "code",
   "execution_count": 5,
   "id": "ad24f256",
   "metadata": {},
   "outputs": [
    {
     "name": "stdout",
     "output_type": "stream",
     "text": [
      "{'Anna': 4, 'Mary': 4}\n"
     ]
    }
   ],
   "source": [
    "lst = ['Anna', 'Mary']\n",
    "value = 0\n",
    "my_dict = dict.fromkeys(lst, value)\n",
    "value2 = 4\n",
    "for item in my_dict.keys():\n",
    "    my_dict.update({item: value2})\n",
    "print(my_dict)\n",
    "del my_dict"
   ]
  },
  {
   "cell_type": "code",
   "execution_count": null,
   "id": "5ce89612",
   "metadata": {},
   "outputs": [],
   "source": []
  }
 ],
 "metadata": {
  "kernelspec": {
   "display_name": "Python 3 (ipykernel)",
   "language": "python",
   "name": "python3"
  },
  "language_info": {
   "codemirror_mode": {
    "name": "ipython",
    "version": 3
   },
   "file_extension": ".py",
   "mimetype": "text/x-python",
   "name": "python",
   "nbconvert_exporter": "python",
   "pygments_lexer": "ipython3",
   "version": "3.7.4"
  }
 },
 "nbformat": 4,
 "nbformat_minor": 5
}
